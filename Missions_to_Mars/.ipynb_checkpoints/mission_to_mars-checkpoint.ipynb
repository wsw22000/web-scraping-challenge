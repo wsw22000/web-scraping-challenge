{
 "cells": [
  {
   "cell_type": "markdown",
   "metadata": {},
   "source": [
    "## Mission to Mars"
   ]
  },
  {
   "cell_type": "code",
   "execution_count": 1,
   "metadata": {},
   "outputs": [],
   "source": [
    "import os\n",
    "from bs4 import BeautifulSoup\n",
    "import requests\n",
    "from splinter import Browser\n",
    "import pandas as pd\n",
    "import time\n",
    "import pprint"
   ]
  },
  {
   "cell_type": "code",
   "execution_count": 2,
   "metadata": {},
   "outputs": [],
   "source": [
    "executable_path = {'executable_path': 'chromedriver.exe'}\n",
    "browser = Browser('chrome', **executable_path, headless=False)"
   ]
  },
  {
   "cell_type": "markdown",
   "metadata": {},
   "source": [
    "### NASA Mars News"
   ]
  },
  {
   "cell_type": "code",
   "execution_count": 3,
   "metadata": {},
   "outputs": [],
   "source": [
    "url = 'https://mars.nasa.gov/news'\n",
    "browser.visit(url)\n",
    "time.sleep(5)\n",
    "html = browser.html"
   ]
  },
  {
   "cell_type": "code",
   "execution_count": 4,
   "metadata": {},
   "outputs": [],
   "source": [
    "soup = BeautifulSoup(html, 'html.parser')"
   ]
  },
  {
   "cell_type": "code",
   "execution_count": 5,
   "metadata": {},
   "outputs": [
    {
     "name": "stdout",
     "output_type": "stream",
     "text": [
      "The Detective Aboard NASA's Perseverance Rover\n",
      "MAVEN Maps Electric Currents around Mars that are Fundamental to Atmospheric Loss\n",
      "Air Deliveries Bring NASA's Perseverance Mars Rover Closer to Launch\n",
      "NASA Wins 4 Webbys, 4 People's Voice Awards\n",
      "NASA's Perseverance Rover Goes Through Trials by Fire, Ice, Light and Sound\n",
      "NASA's Perseverance Rover Mission Getting in Shape for Launch\n",
      "NASA Perseverance Mars Rover Scientists Train in the Nevada Desert\n",
      "NASA's Perseverance Rover Will Look at Mars Through These 'Eyes'\n",
      "Meet the People Behind NASA's Perseverance Rover\n",
      "Q&A with the Student Who Named Ingenuity, NASA's Mars Helicopter\n",
      "Alabama High School Student Names NASA's Mars Helicopter\n",
      "How NASA's Perseverance Mars Team Adjusted to Work in the Time of Coronavirus\n",
      "NASA's Perseverance Mars Rover Gets Balanced\n",
      "NASA's Curiosity Keeps Rolling As Team Operates Rover From Home\n",
      "Mars Helicopter Attached to NASA's Perseverance Rover\n",
      "NASA's Perseverance Mars Rover Gets Its Wheels and Air Brakes\n",
      "The Man Who Wanted to Fly on Mars\n",
      "10.9 Million Names Now Aboard NASA's Perseverance Mars Rover\n",
      "NASA's Curiosity Mars Rover Takes a New Selfie Before Record Climb\n",
      "NASA's Mars Perseverance Rover Gets Its Sample Handling System\n",
      "Virginia Middle School Student Earns Honor of Naming NASA's Next Mars Rover\n",
      "NASA's Curiosity Mars Rover Snaps Its Highest-Resolution Panorama Yet\n",
      "NASA to Reveal Name of Its Next Mars Rover\n",
      "The MarCO Mission Comes to an End\n",
      "A Year of Surprising Science From NASA's InSight Mars Mission\n",
      "Mars InSight Lander to Push on Top of the 'Mole'\n",
      "Common Questions about InSight's 'Mole'\n",
      "NASA Adds Return Sample Scientists to Mars 2020 Leadership Team\n",
      "NASA's Mars Reconnaissance Orbiter Undergoes Memory Update\n",
      "NASA's Mars 2020 Rover Goes Coast-to-Coast to Prep for Launch\n",
      "NASA Prepares for Moon and Mars With New Addition to Its Deep Space Network\n",
      "NASA Administrator Statement on Moon to Mars Initiative, FY 2021 Budget\n",
      "All About the Laser (and Microphone) Atop Mars 2020, NASA's Next Rover\n",
      "NASA's MAVEN Explores Mars to Understand Radio Interference at Earth\n",
      "Nine Finalists Chosen in NASA's Mars 2020 Rover Naming Contest\n",
      "NASA's Mars 2020 Rover Closer to Getting Its Name\n",
      "Media Get a Close-Up of NASA's Mars 2020 Rover\n",
      "Space History Is Made in This NASA Robot Factory\n",
      "NASA's Mars 2020 Rover Completes Its First Drive\n",
      "NASA's MAVEN Maps Winds in the Martian Upper Atmosphere that Mirror the Terrain Below and Gives Clues to Martian Climate\n",
      "10.9 Million Names Now Aboard NASA's Perseverance Mars Rover\n",
      "Virginia Middle School Student Earns Honor of Naming NASA's Next Mars Rover\n",
      "NASA Prepares for Moon and Mars With New Addition to Its Deep Space Network\n",
      "Alabama High School Student Names NASA's Mars Helicopter\n",
      "Mars Helicopter Attached to NASA's Perseverance Rover\n",
      "NASA's Perseverance Mars Rover Gets Its Wheels and Air Brakes\n",
      "10.9 Million Names Now Aboard NASA's Perseverance Mars Rover\n",
      "Virginia Middle School Student Earns Honor of Naming NASA's Next Mars Rover\n",
      "NASA Prepares for Moon and Mars With New Addition to Its Deep Space Network\n",
      "Alabama High School Student Names NASA's Mars Helicopter\n",
      "Mars Helicopter Attached to NASA's Perseverance Rover\n",
      "NASA's Perseverance Mars Rover Gets Its Wheels and Air Brakes\n"
     ]
    },
    {
     "data": {
      "text/plain": [
       "[\"The Detective Aboard NASA's Perseverance Rover\",\n",
       " 'MAVEN Maps Electric Currents around Mars that are Fundamental to Atmospheric Loss',\n",
       " \"Air Deliveries Bring NASA's Perseverance Mars Rover Closer to Launch\",\n",
       " \"NASA Wins 4 Webbys, 4 People's Voice Awards\",\n",
       " \"NASA's Perseverance Rover Goes Through Trials by Fire, Ice, Light and Sound\",\n",
       " \"NASA's Perseverance Rover Mission Getting in Shape for Launch\",\n",
       " 'NASA Perseverance Mars Rover Scientists Train in the Nevada Desert',\n",
       " \"NASA's Perseverance Rover Will Look at Mars Through These 'Eyes'\",\n",
       " \"Meet the People Behind NASA's Perseverance Rover\",\n",
       " \"Q&A with the Student Who Named Ingenuity, NASA's Mars Helicopter\",\n",
       " \"Alabama High School Student Names NASA's Mars Helicopter\",\n",
       " \"How NASA's Perseverance Mars Team Adjusted to Work in the Time of Coronavirus\",\n",
       " \"NASA's Perseverance Mars Rover Gets Balanced\",\n",
       " \"NASA's Curiosity Keeps Rolling As Team Operates Rover From Home\",\n",
       " \"Mars Helicopter Attached to NASA's Perseverance Rover\",\n",
       " \"NASA's Perseverance Mars Rover Gets Its Wheels and Air Brakes\",\n",
       " 'The Man Who Wanted to Fly on Mars',\n",
       " \"10.9 Million Names Now Aboard NASA's Perseverance Mars Rover\",\n",
       " \"NASA's Curiosity Mars Rover Takes a New Selfie Before Record Climb\",\n",
       " \"NASA's Mars Perseverance Rover Gets Its Sample Handling System\",\n",
       " \"Virginia Middle School Student Earns Honor of Naming NASA's Next Mars Rover\",\n",
       " \"NASA's Curiosity Mars Rover Snaps Its Highest-Resolution Panorama Yet\",\n",
       " 'NASA to Reveal Name of Its Next Mars Rover',\n",
       " 'The MarCO Mission Comes to an End',\n",
       " \"A Year of Surprising Science From NASA's InSight Mars Mission\",\n",
       " \"Mars InSight Lander to Push on Top of the 'Mole'\",\n",
       " \"Common Questions about InSight's 'Mole'\",\n",
       " 'NASA Adds Return Sample Scientists to Mars 2020 Leadership Team',\n",
       " \"NASA's Mars Reconnaissance Orbiter Undergoes Memory Update\",\n",
       " \"NASA's Mars 2020 Rover Goes Coast-to-Coast to Prep for Launch\",\n",
       " 'NASA Prepares for Moon and Mars With New Addition to Its Deep Space Network',\n",
       " 'NASA Administrator Statement on Moon to Mars Initiative, FY 2021 Budget',\n",
       " \"All About the Laser (and Microphone) Atop Mars 2020, NASA's Next Rover\",\n",
       " \"NASA's MAVEN Explores Mars to Understand Radio Interference at Earth\",\n",
       " \"Nine Finalists Chosen in NASA's Mars 2020 Rover Naming Contest\",\n",
       " \"NASA's Mars 2020 Rover Closer to Getting Its Name\",\n",
       " \"Media Get a Close-Up of NASA's Mars 2020 Rover\",\n",
       " 'Space History Is Made in This NASA Robot Factory',\n",
       " \"NASA's Mars 2020 Rover Completes Its First Drive\",\n",
       " \"NASA's MAVEN Maps Winds in the Martian Upper Atmosphere that Mirror the Terrain Below and Gives Clues to Martian Climate\",\n",
       " \"10.9 Million Names Now Aboard NASA's Perseverance Mars Rover\",\n",
       " \"Virginia Middle School Student Earns Honor of Naming NASA's Next Mars Rover\",\n",
       " 'NASA Prepares for Moon and Mars With New Addition to Its Deep Space Network',\n",
       " \"Alabama High School Student Names NASA's Mars Helicopter\",\n",
       " \"Mars Helicopter Attached to NASA's Perseverance Rover\",\n",
       " \"NASA's Perseverance Mars Rover Gets Its Wheels and Air Brakes\",\n",
       " \"10.9 Million Names Now Aboard NASA's Perseverance Mars Rover\",\n",
       " \"Virginia Middle School Student Earns Honor of Naming NASA's Next Mars Rover\",\n",
       " 'NASA Prepares for Moon and Mars With New Addition to Its Deep Space Network',\n",
       " \"Alabama High School Student Names NASA's Mars Helicopter\",\n",
       " \"Mars Helicopter Attached to NASA's Perseverance Rover\",\n",
       " \"NASA's Perseverance Mars Rover Gets Its Wheels and Air Brakes\"]"
      ]
     },
     "execution_count": 5,
     "metadata": {},
     "output_type": "execute_result"
    }
   ],
   "source": [
    "news_titles = soup.find_all('div', class_='content_title')\n",
    "news_list = []\n",
    "for news in news_titles:\n",
    "    if news.a:\n",
    "        news_list.append(news.a.text.strip())\n",
    "        print(news.text.strip())\n",
    "        \n",
    "news_list"
   ]
  },
  {
   "cell_type": "code",
   "execution_count": 9,
   "metadata": {},
   "outputs": [
    {
     "data": {
      "text/plain": [
       "\"The Detective Aboard NASA's Perseverance Rover\""
      ]
     },
     "execution_count": 9,
     "metadata": {},
     "output_type": "execute_result"
    }
   ],
   "source": [
    "news_title = news_list[0]\n",
    "news_title"
   ]
  },
  {
   "cell_type": "code",
   "execution_count": 10,
   "metadata": {},
   "outputs": [
    {
     "name": "stdout",
     "output_type": "stream",
     "text": [
      "An instrument called SHERLOC will, with the help of its partner WATSON, hunt for signs of ancient life by detecting organic molecules and minerals.\n",
      "Five years after NASA’s MAVEN spacecraft entered into orbit around Mars, data from the mission has led to the creation of a map of electric current systems in the Martian atmosphere.\n",
      "A NASA Wallops Flight Facility cargo plane transported more than two tons of equipment — including the rover's sample collection tubes — to Florida for this summer's liftoff.\n",
      "Winners include the JPL-managed \"Send Your Name to Mars\" campaign, NASA's Global Climate Change website and Solar System Interactive.\n",
      "The agency's new Mars rover is put through a series of tests in vacuum chambers, acoustic chambers and more to get ready for the Red Planet.\n",
      "Stacking spacecraft components on top of each other is one of the final assembly steps before a mission launches to the Red Planet. \n",
      "Team members searched for signs of ancient microscopic life there, just as NASA's latest rover will on the Red Planet next year.\n",
      "A pair of zoomable cameras will help scientists and rover drivers with high-resolution color images.\n",
      "These are the scientists and engineers who built NASA's next Mars rover and who will guide it to a safe landing in Jezero Crater. \n",
      "As a longtime fan of space exploration, Vaneeza Rupani appreciates the creativity and collaboration involved with trying to fly on another planet.\n",
      "Vaneeza Rupani's essay was chosen as the name for the small spacecraft, which will mark NASA's first attempt at powered flight on another planet.\n",
      "Like much of the rest of the world, the Mars rover team is pushing forward with its mission-critical work while putting the health and safety of their colleagues and community first.\n",
      "The mission team performed a crucial weight-balancing test on the rover in preparation for this summer's history-making launch to the Red Planet.\n",
      "The team has learned to meet new challenges as they work remotely on the Mars mission.\n",
      "The team also fueled the rover's sky crane to get ready for this summer's history-making launch.\n",
      "After the rover was shipped from JPL to Kennedy Space Center, the team is getting closer to finalizing the spacecraft for launch later this summer.\n",
      "The Mars Helicopter is riding to the Red Planet this summer with NASA's Perseverance rover. The helicopter's chief engineer, Bob Balaram, shares the saga of how it came into being.\n",
      "As part of NASA's 'Send Your Name to Mars' campaign, they've been stenciled onto three microchips along with essays from NASA's 'Name the Rover' contest. Next stop: Mars.\n",
      "Along with capturing an image before its steepest ascent ever, the robotic explorer filmed its \"selfie stick,\" or robotic arm, in action.\n",
      "The system will be collecting and storing Martian rock and soil. Its installation marks another milestone in the march toward the July launch period.\n",
      "NASA chose a seventh-grader from Virginia as winner of the agency's \"Name the Rover\" essay contest. Alexander Mather's entry for \"Perseverance\" was voted tops among 28,000 entries. \n",
      "To go along with the stunning 1.8-billion-pixel image, a new video offers a sweeping view of the Red Planet.\n",
      "After a months-long contest among students to name NASA's newest Mars rover, the agency will reveal the winning name — and the winning student — this Thursday. \n",
      "The pair of briefcase-sized satellites made history when they sailed past Mars in 2019.\n",
      "A batch of new papers summarizes the lander's findings above and below the surface of the Red Planet.\n",
      "Engineers have a plan for pushing down on the heat probe, which has been stuck at the Martian surface for a year.\n",
      "The following Q&As with members of the team answer some of the most common questions about the burrowing device, part of a science instrument called the Heat Flow and Physical Properties Package (HP3).\n",
      "The leadership council for Mars 2020 science added two new members who represent the interests of scientists destined to handle and study the first samples from Red Planet.\n",
      "Other orbiters will continue relaying data from Mars surface missions for a two-week period.\n",
      "The agency's first step in returning rocks from Mars just arrived at Kennedy Space Center. The Mars 2020 team now begins readying for a launch to the Red Planet this July.\n",
      "Robotic spacecraft will be able to communicate with the dish using radio waves and lasers.\n",
      "Jim Bridenstine addresses NASA's ambitious plans for the coming years, including Mars Sample Return.\n",
      "SuperCam is a rock-vaporizing instrument that will help scientists hunt for Mars fossils.\n",
      "NASA’s MAVEN spacecraft has discovered “layers” and “rifts” in the electrically charged part of the upper atmosphere of Mars.\n",
      "Nine finalists have been chosen in the essay contest for K-12 students across U.S. to name NASA's next Mars rover. Now you can help by voting for your favorite. \n",
      "155 students from across the U.S. have been chosen as semifinalists in NASA's essay contest to name the Mars 2020 rover, and see it launch from Cape Canaveral this July.\n",
      "The clean room at NASA's Jet Propulsion Laboratory was open to the media to see NASA's next Mars explorer before it leaves for Florida in preparation for a summertime launch.\n",
      "From rockets to rovers, JPL's Spacecraft Assembly Facility has been at the center of robotic spaceflight. Here's a closer look at what makes it so special.\n",
      "In a 10-plus-hour marathon, the rover steered, turned and drove in 3-foot (1-meter) increments over small ramps.\n",
      "Researchers have created the first map of wind circulation in the upper atmosphere of a planet besides Earth, using data from NASA’s MAVEN spacecraft that were collected during the last two years.\n"
     ]
    }
   ],
   "source": [
    "news_text = soup.find_all('div', class_='article_teaser_body')\n",
    "for text in news_text:\n",
    "    print(text.text)"
   ]
  },
  {
   "cell_type": "code",
   "execution_count": 8,
   "metadata": {},
   "outputs": [
    {
     "name": "stdout",
     "output_type": "stream",
     "text": [
      "An instrument called SHERLOC will, with the help of its partner WATSON, hunt for signs of ancient life by detecting organic molecules and minerals.\n"
     ]
    }
   ],
   "source": [
    "news_par = news_text[0].text.strip()\n",
    "print(news_par)"
   ]
  },
  {
   "cell_type": "markdown",
   "metadata": {},
   "source": [
    "### JPL Mars Space Images - Featured Image"
   ]
  },
  {
   "cell_type": "code",
   "execution_count": 11,
   "metadata": {},
   "outputs": [],
   "source": [
    "executable_path = {'executable_path': 'chromedriver.exe'}\n",
    "browser = Browser('chrome', **executable_path, headless=False)"
   ]
  },
  {
   "cell_type": "code",
   "execution_count": 12,
   "metadata": {},
   "outputs": [],
   "source": [
    "base_url = 'https://www.jpl.nasa.gov' \n",
    "url = 'https://www.jpl.nasa.gov/spaceimages/?search=&category=Mars'\n",
    "browser.visit(url)"
   ]
  },
  {
   "cell_type": "code",
   "execution_count": 13,
   "metadata": {},
   "outputs": [
    {
     "name": "stdout",
     "output_type": "stream",
     "text": [
      "url('/spaceimages/images/wallpaper/PIA19323-1920x1200.jpg');\n"
     ]
    }
   ],
   "source": [
    "html = browser.html\n",
    "soup = BeautifulSoup(html, 'html.parser')\n",
    "image_link = soup.find('div', class_='carousel_items')\n",
    "image_urls = image_link.article[\"style\"].split()[1]\n",
    "print(image_urls)"
   ]
  },
  {
   "cell_type": "code",
   "execution_count": 14,
   "metadata": {},
   "outputs": [
    {
     "name": "stdout",
     "output_type": "stream",
     "text": [
      "https://www.jpl.nasa.gov/spaceimages/images/wallpaper/PIA19323-1920x1200.jpg\n"
     ]
    }
   ],
   "source": [
    "featured_image_url = image_urls.replace(\"url('\", base_url).replace(\"');\",\"\")\n",
    "print(featured_image_url)"
   ]
  },
  {
   "cell_type": "code",
   "execution_count": 17,
   "metadata": {},
   "outputs": [],
   "source": [
    "# Use the requests library to download and save the image from the `img_url` above\n",
    "import requests\n",
    "import shutil\n",
    "response = requests.get(featured_image_url, stream=True)\n",
    "with open('featured_img.png', 'wb') as out_file:\n",
    "    shutil.copyfileobj(response.raw, out_file)"
   ]
  },
  {
   "cell_type": "markdown",
   "metadata": {},
   "source": [
    "### Mars Facts"
   ]
  },
  {
   "cell_type": "code",
   "execution_count": null,
   "metadata": {},
   "outputs": [],
   "source": [
    "url = 'https://space-facts.com/mars/'"
   ]
  },
  {
   "cell_type": "code",
   "execution_count": null,
   "metadata": {},
   "outputs": [],
   "source": [
    "tables = pd.read_html(url)"
   ]
  },
  {
   "cell_type": "code",
   "execution_count": null,
   "metadata": {},
   "outputs": [],
   "source": [
    "df = tables[1]\n",
    "df.set_index('Mars - Earth Comparison', inplace=True)\n",
    "df.head()"
   ]
  },
  {
   "cell_type": "code",
   "execution_count": null,
   "metadata": {},
   "outputs": [],
   "source": [
    "html_table = df.to_html()\n",
    "df.to_html('table.html')"
   ]
  },
  {
   "cell_type": "markdown",
   "metadata": {},
   "source": [
    "### Mars Hemisphere"
   ]
  },
  {
   "cell_type": "code",
   "execution_count": 4,
   "metadata": {},
   "outputs": [],
   "source": [
    "url = 'https://astrogeology.usgs.gov/search/results?q=hemisphere+enhanced&k1=target&v1=Mars'\n",
    "browser.visit(url)"
   ]
  },
  {
   "cell_type": "code",
   "execution_count": 5,
   "metadata": {},
   "outputs": [
    {
     "data": {
      "text/plain": [
       "['https://astrogeology.usgs.gov//search/map/Mars/Viking/cerberus_enhanced',\n",
       " 'https://astrogeology.usgs.gov//search/map/Mars/Viking/schiaparelli_enhanced',\n",
       " 'https://astrogeology.usgs.gov//search/map/Mars/Viking/syrtis_major_enhanced',\n",
       " 'https://astrogeology.usgs.gov//search/map/Mars/Viking/valles_marineris_enhanced']"
      ]
     },
     "execution_count": 5,
     "metadata": {},
     "output_type": "execute_result"
    }
   ],
   "source": [
    "html = browser.html\n",
    "soup = BeautifulSoup(html, 'html.parser')\n",
    "products = soup.find_all('div', class_='item')\n",
    "\n",
    "hemisphere_url = []\n",
    "\n",
    "for product in products:\n",
    "    link = product.a[\"href\"]\n",
    "    hemisphere_url.append('https://astrogeology.usgs.gov/'+link)\n",
    "    \n",
    "hemisphere_url"
   ]
  },
  {
   "cell_type": "code",
   "execution_count": 7,
   "metadata": {},
   "outputs": [
    {
     "name": "stdout",
     "output_type": "stream",
     "text": [
      "Cerberus Hemisphere Enhanced \n",
      "https://astropedia.astrogeology.usgs.gov/download/Mars/Viking/cerberus_enhanced.tif/full.jpg\n",
      "Schiaparelli Hemisphere Enhanced \n",
      "https://astropedia.astrogeology.usgs.gov/download/Mars/Viking/schiaparelli_enhanced.tif/full.jpg\n",
      "Syrtis Major Hemisphere Enhanced \n",
      "https://astropedia.astrogeology.usgs.gov/download/Mars/Viking/syrtis_major_enhanced.tif/full.jpg\n",
      "Valles Marineris Hemisphere Enhanced \n",
      "https://astropedia.astrogeology.usgs.gov/download/Mars/Viking/valles_marineris_enhanced.tif/full.jpg\n",
      "[{'Title': 'Cerberus Hemisphere Enhanced ', 'Img_Url': 'https://astropedia.astrogeology.usgs.gov/download/Mars/Viking/cerberus_enhanced.tif/full.jpg'}, {'Title': 'Schiaparelli Hemisphere Enhanced ', 'Img_Url': 'https://astropedia.astrogeology.usgs.gov/download/Mars/Viking/schiaparelli_enhanced.tif/full.jpg'}, {'Title': 'Syrtis Major Hemisphere Enhanced ', 'Img_Url': 'https://astropedia.astrogeology.usgs.gov/download/Mars/Viking/syrtis_major_enhanced.tif/full.jpg'}, {'Title': 'Valles Marineris Hemisphere Enhanced ', 'Img_Url': 'https://astropedia.astrogeology.usgs.gov/download/Mars/Viking/valles_marineris_enhanced.tif/full.jpg'}]\n"
     ]
    }
   ],
   "source": [
    "hemisphere_image_urls = []\n",
    "page_titles = []\n",
    "page_links = []\n",
    "\n",
    "for url in hemisphere_url:\n",
    "    browser.visit(url)\n",
    "    html = browser.html\n",
    "    soup = BeautifulSoup(html, 'html.parser')\n",
    "    titles = soup.find_all('title')\n",
    "    links = soup.find_all('div', class_=\"downloads\")\n",
    "    \n",
    "    for title in titles:\n",
    "        page_titles.append(title.text.replace(\"| USGS Astrogeology Science Center\", \"\"))\n",
    "        print(title.text.replace(\"| USGS Astrogeology Science Center\", \"\"))   \n",
    "    for link in links:\n",
    "        page_links.append(link.ul.li.a[\"href\"])\n",
    "        print(link.ul.li.a[\"href\"])\n",
    "\n",
    "hemisphere_image_urls = [{'Title': x, 'Img_Url': y} for x, y in zip(page_titles, page_links)]\n",
    "print(hemisphere_image_urls)"
   ]
  }
 ],
 "metadata": {
  "kernelspec": {
   "display_name": "Python 3",
   "language": "python",
   "name": "python3"
  },
  "language_info": {
   "codemirror_mode": {
    "name": "ipython",
    "version": 3
   },
   "file_extension": ".py",
   "mimetype": "text/x-python",
   "name": "python",
   "nbconvert_exporter": "python",
   "pygments_lexer": "ipython3",
   "version": "3.6.10"
  }
 },
 "nbformat": 4,
 "nbformat_minor": 4
}
