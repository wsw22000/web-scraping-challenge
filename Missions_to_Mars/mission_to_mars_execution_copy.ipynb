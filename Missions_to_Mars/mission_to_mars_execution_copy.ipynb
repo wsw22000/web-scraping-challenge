{
 "cells": [
  {
   "cell_type": "code",
   "execution_count": 1,
   "metadata": {},
   "outputs": [],
   "source": [
    "import os\n",
    "from bs4 import BeautifulSoup\n",
    "import requests\n",
    "from splinter import Browser\n",
    "import pandas as pd\n",
    "import time\n",
    "import shutil"
   ]
  },
  {
   "cell_type": "code",
   "execution_count": 2,
   "metadata": {},
   "outputs": [],
   "source": [
    "executable_path = {'executable_path': 'chromedriver.exe'}\n",
    "browser = Browser('chrome', **executable_path, headless=False)"
   ]
  },
  {
   "cell_type": "code",
   "execution_count": 3,
   "metadata": {},
   "outputs": [],
   "source": [
    "# NASA Mars News\n",
    "url = 'https://mars.nasa.gov/news'\n",
    "browser.visit(url)\n",
    "time.sleep(5)\n",
    "html = browser.html\n",
    "soup = BeautifulSoup(html, 'html.parser')\n",
    "news_titles = soup.find_all('div', class_='content_title')\n",
    "news_list = []\n",
    "for news in news_titles:\n",
    "    if news.a:\n",
    "        news_list.append(news.a.text.strip())\n",
    "news_title = news_list[0]\n",
    "news_text = soup.find_all('div', class_='article_teaser_body')\n",
    "news_p = news_text[0].text.strip()"
   ]
  },
  {
   "cell_type": "code",
   "execution_count": 4,
   "metadata": {},
   "outputs": [],
   "source": [
    "# JPL Mars Space Images - Featured Image\n",
    "base_url = 'https://www.jpl.nasa.gov' \n",
    "url = 'https://www.jpl.nasa.gov/spaceimages/?search=&category=Mars'\n",
    "browser.visit(url)\n",
    "html = browser.html\n",
    "soup = BeautifulSoup(html, 'html.parser')\n",
    "image_link = soup.find('div', class_='carousel_items')\n",
    "image_urls = image_link.article[\"style\"].split()[1]\n",
    "featured_image_url = image_urls.replace(\"url('\", base_url).replace(\"');\",\"\")\n",
    "response = requests.get(featured_image_url, stream=True)\n",
    "with open('featured_img.png', 'wb') as out_file:\n",
    "    shutil.copyfileobj(response.raw, out_file)"
   ]
  },
  {
   "cell_type": "code",
   "execution_count": 5,
   "metadata": {},
   "outputs": [],
   "source": [
    "# Mars Facts\n",
    "url = 'https://space-facts.com/mars/'\n",
    "tables = pd.read_html(url)\n",
    "df = tables[1]\n",
    "df.set_index('Mars - Earth Comparison', inplace=True)\n",
    "html_table = df.to_html()\n",
    "df.to_html('table.html')"
   ]
  },
  {
   "cell_type": "code",
   "execution_count": 6,
   "metadata": {},
   "outputs": [],
   "source": [
    "# Mars Hemisphere\n",
    "url = 'https://astrogeology.usgs.gov/search/results?q=hemisphere+enhanced&k1=target&v1=Mars'\n",
    "browser.visit(url)\n",
    "html = browser.html\n",
    "soup = BeautifulSoup(html, 'html.parser')\n",
    "products = soup.find_all('div', class_='item')\n",
    "\n",
    "hemisphere_url = []\n",
    "\n",
    "for product in products:\n",
    "    link = product.a[\"href\"]\n",
    "    hemisphere_url.append('https://astrogeology.usgs.gov/'+link)\n",
    "    \n",
    "hemisphere_image_urls = []\n",
    "page_titles = []\n",
    "page_links = []\n",
    "\n",
    "for url in hemisphere_url:\n",
    "    browser.visit(url)\n",
    "    html = browser.html\n",
    "    soup = BeautifulSoup(html, 'html.parser')\n",
    "    titles = soup.find_all('title')\n",
    "    links = soup.find_all('div', class_=\"downloads\")\n",
    "    \n",
    "    for title in titles:\n",
    "        page_titles.append(title.text.replace(\"| USGS Astrogeology Science Center\", \"\"))\n",
    "    for link in links:\n",
    "        page_links.append(link.ul.li.a[\"href\"])\n",
    "\n",
    "hemisphere_image_urls = [{'title': x, 'img_url': y} for x, y in zip(page_titles, page_links)]"
   ]
  },
  {
   "cell_type": "code",
   "execution_count": null,
   "metadata": {},
   "outputs": [],
   "source": [
    "browser.quit()"
   ]
  },
  {
   "cell_type": "code",
   "execution_count": 9,
   "metadata": {},
   "outputs": [],
   "source": [
    "mars_data = {\n",
    "        \"news_title\": news_title,\n",
    "        \"news_paragraph\": news_p,\n",
    "        \"featured_mars_image\": featured_image_url,\n",
    "        \"mars_table\": html_table,\n",
    "        \"hemisphere_images\" : hemisphere_image_urls\n",
    "    }"
   ]
  }
 ],
 "metadata": {
  "kernelspec": {
   "display_name": "Python 3",
   "language": "python",
   "name": "python3"
  },
  "language_info": {
   "codemirror_mode": {
    "name": "ipython",
    "version": 3
   },
   "file_extension": ".py",
   "mimetype": "text/x-python",
   "name": "python",
   "nbconvert_exporter": "python",
   "pygments_lexer": "ipython3",
   "version": "3.6.10"
  }
 },
 "nbformat": 4,
 "nbformat_minor": 4
}
